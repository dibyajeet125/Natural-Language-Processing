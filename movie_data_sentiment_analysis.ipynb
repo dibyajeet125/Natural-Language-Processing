{
 "cells": [
  {
   "cell_type": "markdown",
   "metadata": {
    "id": "POQvaNYb25Ta"
   },
   "source": [
    "## Dataset description: <br>\n",
    "IMDB dataset having 50K movie reviews for natural language processing or Text analytics.\n",
    "This is a dataset for binary sentiment classification containing substantially more data than previous benchmark datasets. We provide a set of 25,000 highly polar movie reviews for training and 25,000 for testing. So, predict the number of positive and negative reviews using either classification or deep learning algorithms."
   ]
  },
  {
   "cell_type": "code",
   "execution_count": 1,
   "metadata": {
    "id": "ankeHXsC2-zB"
   },
   "outputs": [],
   "source": [
    "import numpy as np\n",
    "import pandas as pd"
   ]
  },
  {
   "cell_type": "code",
   "execution_count": 2,
   "metadata": {
    "id": "DQgpaxkFusT8"
   },
   "outputs": [],
   "source": [
    "data=pd.read_csv(\"IMDB Dataset.csv\")"
   ]
  },
  {
   "cell_type": "code",
   "execution_count": 3,
   "metadata": {
    "colab": {
     "base_uri": "https://localhost:8080/",
     "height": 204
    },
    "id": "FhIQ70atvPAi",
    "outputId": "9872da7f-8b3a-410f-87c3-489005c9e1d8"
   },
   "outputs": [
    {
     "data": {
      "text/html": [
       "<div>\n",
       "<style scoped>\n",
       "    .dataframe tbody tr th:only-of-type {\n",
       "        vertical-align: middle;\n",
       "    }\n",
       "\n",
       "    .dataframe tbody tr th {\n",
       "        vertical-align: top;\n",
       "    }\n",
       "\n",
       "    .dataframe thead th {\n",
       "        text-align: right;\n",
       "    }\n",
       "</style>\n",
       "<table border=\"1\" class=\"dataframe\">\n",
       "  <thead>\n",
       "    <tr style=\"text-align: right;\">\n",
       "      <th></th>\n",
       "      <th>review</th>\n",
       "      <th>sentiment</th>\n",
       "    </tr>\n",
       "  </thead>\n",
       "  <tbody>\n",
       "    <tr>\n",
       "      <th>0</th>\n",
       "      <td>One of the other reviewers has mentioned that ...</td>\n",
       "      <td>positive</td>\n",
       "    </tr>\n",
       "    <tr>\n",
       "      <th>1</th>\n",
       "      <td>A wonderful little production. &lt;br /&gt;&lt;br /&gt;The...</td>\n",
       "      <td>positive</td>\n",
       "    </tr>\n",
       "    <tr>\n",
       "      <th>2</th>\n",
       "      <td>I thought this was a wonderful way to spend ti...</td>\n",
       "      <td>positive</td>\n",
       "    </tr>\n",
       "    <tr>\n",
       "      <th>3</th>\n",
       "      <td>Basically there's a family where a little boy ...</td>\n",
       "      <td>negative</td>\n",
       "    </tr>\n",
       "    <tr>\n",
       "      <th>4</th>\n",
       "      <td>Petter Mattei's \"Love in the Time of Money\" is...</td>\n",
       "      <td>positive</td>\n",
       "    </tr>\n",
       "  </tbody>\n",
       "</table>\n",
       "</div>"
      ],
      "text/plain": [
       "                                              review sentiment\n",
       "0  One of the other reviewers has mentioned that ...  positive\n",
       "1  A wonderful little production. <br /><br />The...  positive\n",
       "2  I thought this was a wonderful way to spend ti...  positive\n",
       "3  Basically there's a family where a little boy ...  negative\n",
       "4  Petter Mattei's \"Love in the Time of Money\" is...  positive"
      ]
     },
     "execution_count": 3,
     "metadata": {},
     "output_type": "execute_result"
    }
   ],
   "source": [
    "data.head()"
   ]
  },
  {
   "cell_type": "code",
   "execution_count": 4,
   "metadata": {},
   "outputs": [
    {
     "data": {
      "text/html": [
       "<div>\n",
       "<style scoped>\n",
       "    .dataframe tbody tr th:only-of-type {\n",
       "        vertical-align: middle;\n",
       "    }\n",
       "\n",
       "    .dataframe tbody tr th {\n",
       "        vertical-align: top;\n",
       "    }\n",
       "\n",
       "    .dataframe thead th {\n",
       "        text-align: right;\n",
       "    }\n",
       "</style>\n",
       "<table border=\"1\" class=\"dataframe\">\n",
       "  <thead>\n",
       "    <tr style=\"text-align: right;\">\n",
       "      <th></th>\n",
       "      <th>review</th>\n",
       "      <th>sentiment</th>\n",
       "    </tr>\n",
       "  </thead>\n",
       "  <tbody>\n",
       "    <tr>\n",
       "      <th>49995</th>\n",
       "      <td>I thought this movie did a down right good job...</td>\n",
       "      <td>positive</td>\n",
       "    </tr>\n",
       "    <tr>\n",
       "      <th>49996</th>\n",
       "      <td>Bad plot, bad dialogue, bad acting, idiotic di...</td>\n",
       "      <td>negative</td>\n",
       "    </tr>\n",
       "    <tr>\n",
       "      <th>49997</th>\n",
       "      <td>I am a Catholic taught in parochial elementary...</td>\n",
       "      <td>negative</td>\n",
       "    </tr>\n",
       "    <tr>\n",
       "      <th>49998</th>\n",
       "      <td>I'm going to have to disagree with the previou...</td>\n",
       "      <td>negative</td>\n",
       "    </tr>\n",
       "    <tr>\n",
       "      <th>49999</th>\n",
       "      <td>No one expects the Star Trek movies to be high...</td>\n",
       "      <td>negative</td>\n",
       "    </tr>\n",
       "  </tbody>\n",
       "</table>\n",
       "</div>"
      ],
      "text/plain": [
       "                                                  review sentiment\n",
       "49995  I thought this movie did a down right good job...  positive\n",
       "49996  Bad plot, bad dialogue, bad acting, idiotic di...  negative\n",
       "49997  I am a Catholic taught in parochial elementary...  negative\n",
       "49998  I'm going to have to disagree with the previou...  negative\n",
       "49999  No one expects the Star Trek movies to be high...  negative"
      ]
     },
     "execution_count": 4,
     "metadata": {},
     "output_type": "execute_result"
    }
   ],
   "source": [
    "data.tail()"
   ]
  },
  {
   "cell_type": "code",
   "execution_count": 5,
   "metadata": {
    "colab": {
     "base_uri": "https://localhost:8080/"
    },
    "id": "S2Y9ouHoxHUz",
    "outputId": "06990c3c-78a3-4110-ff67-dc9ad645100c"
   },
   "outputs": [
    {
     "data": {
      "text/plain": [
       "Index(['review', 'sentiment'], dtype='object')"
      ]
     },
     "execution_count": 5,
     "metadata": {},
     "output_type": "execute_result"
    }
   ],
   "source": [
    "data.columns"
   ]
  },
  {
   "cell_type": "code",
   "execution_count": 6,
   "metadata": {},
   "outputs": [
    {
     "data": {
      "text/plain": [
       "(50000, 2)"
      ]
     },
     "execution_count": 6,
     "metadata": {},
     "output_type": "execute_result"
    }
   ],
   "source": [
    "data.shape"
   ]
  },
  {
   "cell_type": "code",
   "execution_count": 8,
   "metadata": {
    "colab": {
     "base_uri": "https://localhost:8080/"
    },
    "id": "6b1cyXSXzbuO",
    "outputId": "030ce6ef-3b26-4412-f50d-0876101f3f9f"
   },
   "outputs": [
    {
     "data": {
      "text/plain": [
       "review       False\n",
       "sentiment    False\n",
       "dtype: bool"
      ]
     },
     "execution_count": 8,
     "metadata": {},
     "output_type": "execute_result"
    }
   ],
   "source": [
    "data.isnull().any()"
   ]
  },
  {
   "cell_type": "code",
   "execution_count": 9,
   "metadata": {
    "colab": {
     "base_uri": "https://localhost:8080/"
    },
    "id": "LGAG2enjzdXe",
    "outputId": "658fbf45-cb47-4eb9-853d-9983a113390a"
   },
   "outputs": [
    {
     "data": {
      "text/plain": [
       "review       0\n",
       "sentiment    0\n",
       "dtype: int64"
      ]
     },
     "execution_count": 9,
     "metadata": {},
     "output_type": "execute_result"
    }
   ],
   "source": [
    "data.isnull().sum()"
   ]
  },
  {
   "cell_type": "code",
   "execution_count": 7,
   "metadata": {
    "colab": {
     "base_uri": "https://localhost:8080/",
     "height": 173
    },
    "id": "x5015AXvzhhL",
    "outputId": "2a97bf7a-7816-45ac-bdb2-63274de0bfb8"
   },
   "outputs": [
    {
     "data": {
      "text/html": [
       "<div>\n",
       "<style scoped>\n",
       "    .dataframe tbody tr th:only-of-type {\n",
       "        vertical-align: middle;\n",
       "    }\n",
       "\n",
       "    .dataframe tbody tr th {\n",
       "        vertical-align: top;\n",
       "    }\n",
       "\n",
       "    .dataframe thead th {\n",
       "        text-align: right;\n",
       "    }\n",
       "</style>\n",
       "<table border=\"1\" class=\"dataframe\">\n",
       "  <thead>\n",
       "    <tr style=\"text-align: right;\">\n",
       "      <th></th>\n",
       "      <th>review</th>\n",
       "      <th>sentiment</th>\n",
       "    </tr>\n",
       "  </thead>\n",
       "  <tbody>\n",
       "    <tr>\n",
       "      <th>count</th>\n",
       "      <td>50000</td>\n",
       "      <td>50000</td>\n",
       "    </tr>\n",
       "    <tr>\n",
       "      <th>unique</th>\n",
       "      <td>49582</td>\n",
       "      <td>2</td>\n",
       "    </tr>\n",
       "    <tr>\n",
       "      <th>top</th>\n",
       "      <td>Loved today's show!!! It was a variety and not...</td>\n",
       "      <td>positive</td>\n",
       "    </tr>\n",
       "    <tr>\n",
       "      <th>freq</th>\n",
       "      <td>5</td>\n",
       "      <td>25000</td>\n",
       "    </tr>\n",
       "  </tbody>\n",
       "</table>\n",
       "</div>"
      ],
      "text/plain": [
       "                                                   review sentiment\n",
       "count                                               50000     50000\n",
       "unique                                              49582         2\n",
       "top     Loved today's show!!! It was a variety and not...  positive\n",
       "freq                                                    5     25000"
      ]
     },
     "execution_count": 7,
     "metadata": {},
     "output_type": "execute_result"
    }
   ],
   "source": [
    "data.describe()"
   ]
  },
  {
   "cell_type": "code",
   "execution_count": 10,
   "metadata": {
    "colab": {
     "base_uri": "https://localhost:8080/"
    },
    "id": "3qyfTIVsznCR",
    "outputId": "b7426834-5583-40d6-b785-f92034704ce3"
   },
   "outputs": [
    {
     "data": {
      "text/plain": [
       "positive    25000\n",
       "negative    25000\n",
       "Name: sentiment, dtype: int64"
      ]
     },
     "execution_count": 10,
     "metadata": {},
     "output_type": "execute_result"
    }
   ],
   "source": [
    "data['sentiment'].value_counts()"
   ]
  },
  {
   "cell_type": "markdown",
   "metadata": {
    "id": "FF9MA1Zw1Zj8"
   },
   "source": [
    "# Text normalization\n",
    "## tokenization"
   ]
  },
  {
   "cell_type": "code",
   "execution_count": 12,
   "metadata": {},
   "outputs": [
    {
     "name": "stdout",
     "output_type": "stream",
     "text": [
      "Defaulting to user installation because normal site-packages is not writeable\n",
      "Collecting wordcloud\n",
      "  Downloading wordcloud-1.9.2-cp311-cp311-win_amd64.whl (151 kB)\n",
      "                                              0.0/151.4 kB ? eta -:--:--\n",
      "     ----------------------------           112.6/151.4 kB 2.2 MB/s eta 0:00:01\n",
      "     -----------------------------------    143.4/151.4 kB 1.7 MB/s eta 0:00:01\n",
      "     -------------------------------------- 151.4/151.4 kB 1.0 MB/s eta 0:00:00\n",
      "Requirement already satisfied: numpy>=1.6.1 in c:\\programdata\\anaconda3\\lib\\site-packages (from wordcloud) (1.24.3)\n",
      "Requirement already satisfied: pillow in c:\\programdata\\anaconda3\\lib\\site-packages (from wordcloud) (9.4.0)\n",
      "Requirement already satisfied: matplotlib in c:\\programdata\\anaconda3\\lib\\site-packages (from wordcloud) (3.7.1)\n",
      "Requirement already satisfied: contourpy>=1.0.1 in c:\\programdata\\anaconda3\\lib\\site-packages (from matplotlib->wordcloud) (1.0.5)\n",
      "Requirement already satisfied: cycler>=0.10 in c:\\programdata\\anaconda3\\lib\\site-packages (from matplotlib->wordcloud) (0.11.0)\n",
      "Requirement already satisfied: fonttools>=4.22.0 in c:\\programdata\\anaconda3\\lib\\site-packages (from matplotlib->wordcloud) (4.25.0)\n",
      "Requirement already satisfied: kiwisolver>=1.0.1 in c:\\programdata\\anaconda3\\lib\\site-packages (from matplotlib->wordcloud) (1.4.4)\n",
      "Requirement already satisfied: packaging>=20.0 in c:\\programdata\\anaconda3\\lib\\site-packages (from matplotlib->wordcloud) (23.0)\n",
      "Requirement already satisfied: pyparsing>=2.3.1 in c:\\programdata\\anaconda3\\lib\\site-packages (from matplotlib->wordcloud) (3.0.9)\n",
      "Requirement already satisfied: python-dateutil>=2.7 in c:\\programdata\\anaconda3\\lib\\site-packages (from matplotlib->wordcloud) (2.8.2)\n",
      "Requirement already satisfied: six>=1.5 in c:\\programdata\\anaconda3\\lib\\site-packages (from python-dateutil>=2.7->matplotlib->wordcloud) (1.16.0)\n",
      "Installing collected packages: wordcloud\n",
      "Successfully installed wordcloud-1.9.2\n"
     ]
    },
    {
     "name": "stderr",
     "output_type": "stream",
     "text": [
      "  WARNING: The script wordcloud_cli.exe is installed in 'C:\\Users\\dibya_xo5nlek\\AppData\\Roaming\\Python\\Python311\\Scripts' which is not on PATH.\n",
      "  Consider adding this directory to PATH or, if you prefer to suppress this warning, use --no-warn-script-location.\n"
     ]
    }
   ],
   "source": [
    "!pip install wordcloud"
   ]
  },
  {
   "cell_type": "code",
   "execution_count": 13,
   "metadata": {
    "id": "Jw926llo1Uxx"
   },
   "outputs": [],
   "source": [
    "import seaborn as sns\n",
    "import matplotlib.pyplot as plt\n",
    "import nltk\n",
    "from sklearn.feature_extraction.text import CountVectorizer\n",
    "from sklearn.feature_extraction.text import TfidfVectorizer\n",
    "from sklearn.preprocessing import LabelBinarizer\n",
    "from nltk.corpus import stopwords\n",
    "from nltk.stem.porter import PorterStemmer\n",
    "from wordcloud import WordCloud,STOPWORDS\n",
    "from nltk.stem import WordNetLemmatizer\n",
    "from nltk.tokenize import word_tokenize,sent_tokenize"
   ]
  },
  {
   "cell_type": "code",
   "execution_count": 15,
   "metadata": {},
   "outputs": [
    {
     "name": "stdout",
     "output_type": "stream",
     "text": [
      "Defaulting to user installation because normal site-packages is not writeable\n",
      "Collecting spacy\n",
      "  Downloading spacy-3.6.0-cp311-cp311-win_amd64.whl (12.3 MB)\n",
      "                                              0.0/12.3 MB ? eta -:--:--\n",
      "                                              0.1/12.3 MB 2.2 MB/s eta 0:00:06\n",
      "     -                                        0.3/12.3 MB 2.7 MB/s eta 0:00:05\n",
      "     -                                        0.6/12.3 MB 3.3 MB/s eta 0:00:04\n",
      "     --                                       0.6/12.3 MB 3.0 MB/s eta 0:00:04\n",
      "     --                                       0.6/12.3 MB 3.0 MB/s eta 0:00:04\n",
      "     ---                                      1.0/12.3 MB 2.8 MB/s eta 0:00:05\n",
      "     -----                                    1.6/12.3 MB 3.7 MB/s eta 0:00:03\n",
      "     ------                                   1.9/12.3 MB 3.9 MB/s eta 0:00:03\n",
      "     -------                                  2.2/12.3 MB 3.9 MB/s eta 0:00:03\n",
      "     --------                                 2.5/12.3 MB 4.0 MB/s eta 0:00:03\n",
      "     ---------                                2.8/12.3 MB 4.1 MB/s eta 0:00:03\n",
      "     ----------                               3.1/12.3 MB 4.1 MB/s eta 0:00:03\n",
      "     ----------                               3.4/12.3 MB 4.1 MB/s eta 0:00:03\n",
      "     -----------                              3.5/12.3 MB 4.0 MB/s eta 0:00:03\n",
      "     ------------                             3.9/12.3 MB 4.1 MB/s eta 0:00:03\n",
      "     -------------                            4.1/12.3 MB 4.1 MB/s eta 0:00:02\n",
      "     --------------                           4.4/12.3 MB 4.1 MB/s eta 0:00:02\n",
      "     --------------                           4.5/12.3 MB 4.0 MB/s eta 0:00:02\n",
      "     --------------                           4.5/12.3 MB 4.0 MB/s eta 0:00:02\n",
      "     ----------------                         5.1/12.3 MB 4.1 MB/s eta 0:00:02\n",
      "     -----------------                        5.3/12.3 MB 4.1 MB/s eta 0:00:02\n",
      "     ------------------                       5.6/12.3 MB 4.0 MB/s eta 0:00:02\n",
      "     ------------------                       5.8/12.3 MB 4.0 MB/s eta 0:00:02\n",
      "     -------------------                      5.9/12.3 MB 4.0 MB/s eta 0:00:02\n",
      "     -------------------                      5.9/12.3 MB 4.0 MB/s eta 0:00:02\n",
      "     --------------------                     6.4/12.3 MB 3.9 MB/s eta 0:00:02\n",
      "     ---------------------                    6.6/12.3 MB 3.9 MB/s eta 0:00:02\n",
      "     ----------------------                   6.8/12.3 MB 3.9 MB/s eta 0:00:02\n",
      "     -----------------------                  7.2/12.3 MB 4.0 MB/s eta 0:00:02\n",
      "     ------------------------                 7.5/12.3 MB 4.0 MB/s eta 0:00:02\n",
      "     -------------------------                7.7/12.3 MB 4.0 MB/s eta 0:00:02\n",
      "     -------------------------                8.0/12.3 MB 4.0 MB/s eta 0:00:02\n",
      "     --------------------------               8.2/12.3 MB 4.0 MB/s eta 0:00:02\n",
      "     ---------------------------              8.5/12.3 MB 4.0 MB/s eta 0:00:01\n",
      "     ---------------------------              8.5/12.3 MB 4.0 MB/s eta 0:00:01\n",
      "     ----------------------------             8.8/12.3 MB 3.9 MB/s eta 0:00:01\n",
      "     -----------------------------            9.1/12.3 MB 3.9 MB/s eta 0:00:01\n",
      "     ------------------------------           9.4/12.3 MB 3.9 MB/s eta 0:00:01\n",
      "     -------------------------------          9.6/12.3 MB 3.9 MB/s eta 0:00:01\n",
      "     --------------------------------         9.9/12.3 MB 4.0 MB/s eta 0:00:01\n",
      "     ---------------------------------        10.1/12.3 MB 4.0 MB/s eta 0:00:01\n",
      "     ---------------------------------        10.4/12.3 MB 4.0 MB/s eta 0:00:01\n",
      "     ----------------------------------       10.6/12.3 MB 4.0 MB/s eta 0:00:01\n",
      "     -----------------------------------      10.9/12.3 MB 4.3 MB/s eta 0:00:01\n",
      "     -----------------------------------      10.9/12.3 MB 4.3 MB/s eta 0:00:01\n",
      "     ------------------------------------     11.2/12.3 MB 4.1 MB/s eta 0:00:01\n",
      "     -------------------------------------    11.4/12.3 MB 4.0 MB/s eta 0:00:01\n",
      "     -------------------------------------    11.6/12.3 MB 3.9 MB/s eta 0:00:01\n",
      "     --------------------------------------   11.8/12.3 MB 3.9 MB/s eta 0:00:01\n",
      "     ---------------------------------------  12.1/12.3 MB 3.9 MB/s eta 0:00:01\n",
      "     ---------------------------------------  12.3/12.3 MB 3.9 MB/s eta 0:00:01\n",
      "     ---------------------------------------  12.3/12.3 MB 3.9 MB/s eta 0:00:01\n",
      "     ---------------------------------------  12.3/12.3 MB 3.9 MB/s eta 0:00:01\n",
      "     ---------------------------------------  12.3/12.3 MB 3.9 MB/s eta 0:00:01\n",
      "     ---------------------------------------- 12.3/12.3 MB 3.4 MB/s eta 0:00:00\n",
      "Collecting spacy-legacy<3.1.0,>=3.0.11 (from spacy)\n",
      "  Using cached spacy_legacy-3.0.12-py2.py3-none-any.whl (29 kB)\n",
      "Collecting spacy-loggers<2.0.0,>=1.0.0 (from spacy)\n",
      "  Using cached spacy_loggers-1.0.4-py3-none-any.whl (11 kB)\n",
      "Collecting murmurhash<1.1.0,>=0.28.0 (from spacy)\n",
      "  Downloading murmurhash-1.0.9-cp311-cp311-win_amd64.whl (18 kB)\n",
      "Collecting cymem<2.1.0,>=2.0.2 (from spacy)\n",
      "  Downloading cymem-2.0.7-cp311-cp311-win_amd64.whl (28 kB)\n",
      "Collecting preshed<3.1.0,>=3.0.2 (from spacy)\n",
      "  Downloading preshed-3.0.8-cp311-cp311-win_amd64.whl (91 kB)\n",
      "                                              0.0/91.9 kB ? eta -:--:--\n",
      "     -----------------------------------      81.9/91.9 kB ? eta -:--:--\n",
      "     ---------------------------------------- 91.9/91.9 kB 1.3 MB/s eta 0:00:00\n",
      "Collecting thinc<8.2.0,>=8.1.8 (from spacy)\n",
      "  Downloading thinc-8.1.10-cp311-cp311-win_amd64.whl (1.5 MB)\n",
      "                                              0.0/1.5 MB ? eta -:--:--\n",
      "     ------                                   0.3/1.5 MB 5.2 MB/s eta 0:00:01\n",
      "     ---------------                          0.6/1.5 MB 4.1 MB/s eta 0:00:01\n",
      "     ---------------------                    0.8/1.5 MB 3.8 MB/s eta 0:00:01\n",
      "     --------------------------               1.0/1.5 MB 3.9 MB/s eta 0:00:01\n",
      "     ---------------------------              1.0/1.5 MB 3.6 MB/s eta 0:00:01\n",
      "     --------------------------------         1.2/1.5 MB 3.1 MB/s eta 0:00:01\n",
      "     -------------------------------------    1.4/1.5 MB 2.9 MB/s eta 0:00:01\n",
      "     ---------------------------------------  1.5/1.5 MB 2.9 MB/s eta 0:00:01\n",
      "     ---------------------------------------  1.5/1.5 MB 2.9 MB/s eta 0:00:01\n",
      "     ---------------------------------------  1.5/1.5 MB 2.9 MB/s eta 0:00:01\n",
      "     ---------------------------------------- 1.5/1.5 MB 2.1 MB/s eta 0:00:00\n",
      "Collecting wasabi<1.2.0,>=0.9.1 (from spacy)\n",
      "  Downloading wasabi-1.1.2-py3-none-any.whl (27 kB)\n",
      "Collecting srsly<3.0.0,>=2.4.3 (from spacy)\n",
      "  Downloading srsly-2.4.7-cp311-cp311-win_amd64.whl (479 kB)\n",
      "                                              0.0/479.5 kB ? eta -:--:--\n",
      "     -------                                  92.2/479.5 kB ? eta -:--:--\n",
      "     ----------------------                 286.7/479.5 kB 2.5 MB/s eta 0:00:01\n",
      "     --------------------------------       409.6/479.5 kB 2.3 MB/s eta 0:00:01\n",
      "     -------------------------------------  471.0/479.5 kB 2.5 MB/s eta 0:00:01\n",
      "     -------------------------------------- 479.5/479.5 kB 1.8 MB/s eta 0:00:00\n",
      "Collecting catalogue<2.1.0,>=2.0.6 (from spacy)\n",
      "  Downloading catalogue-2.0.9-py3-none-any.whl (17 kB)\n",
      "Collecting typer<0.10.0,>=0.3.0 (from spacy)\n",
      "  Downloading typer-0.9.0-py3-none-any.whl (45 kB)\n",
      "                                              0.0/45.9 kB ? eta -:--:--\n",
      "     -----------------------------------      41.0/45.9 kB ? eta -:--:--\n",
      "     -------------------------------------- 45.9/45.9 kB 456.7 kB/s eta 0:00:00\n",
      "Collecting pathy>=0.10.0 (from spacy)\n",
      "  Downloading pathy-0.10.2-py3-none-any.whl (48 kB)\n",
      "                                              0.0/48.9 kB ? eta -:--:--\n",
      "     ---------------------------------        41.0/48.9 kB ? eta -:--:--\n",
      "     -------------------------------------- 48.9/48.9 kB 613.1 kB/s eta 0:00:00\n",
      "Requirement already satisfied: smart-open<7.0.0,>=5.2.1 in c:\\programdata\\anaconda3\\lib\\site-packages (from spacy) (5.2.1)\n",
      "Requirement already satisfied: tqdm<5.0.0,>=4.38.0 in c:\\programdata\\anaconda3\\lib\\site-packages (from spacy) (4.65.0)\n",
      "Requirement already satisfied: numpy>=1.15.0 in c:\\programdata\\anaconda3\\lib\\site-packages (from spacy) (1.24.3)\n",
      "Requirement already satisfied: requests<3.0.0,>=2.13.0 in c:\\programdata\\anaconda3\\lib\\site-packages (from spacy) (2.29.0)\n",
      "Collecting pydantic!=1.8,!=1.8.1,<1.11.0,>=1.7.4 (from spacy)\n",
      "  Downloading pydantic-1.10.12-cp311-cp311-win_amd64.whl (2.1 MB)\n",
      "                                              0.0/2.1 MB ? eta -:--:--\n",
      "     ---                                      0.2/2.1 MB 3.3 MB/s eta 0:00:01\n",
      "     ---                                      0.2/2.1 MB 3.3 MB/s eta 0:00:01\n",
      "     ---                                      0.2/2.1 MB 3.3 MB/s eta 0:00:01\n",
      "     ----                                     0.3/2.1 MB 1.1 MB/s eta 0:00:02\n",
      "     ------                                   0.3/2.1 MB 1.1 MB/s eta 0:00:02\n",
      "     --------                                 0.5/2.1 MB 1.2 MB/s eta 0:00:02\n",
      "     ----------                               0.6/2.1 MB 1.3 MB/s eta 0:00:02\n",
      "     ------------                             0.7/2.1 MB 1.3 MB/s eta 0:00:02\n",
      "     -------------                            0.7/2.1 MB 1.3 MB/s eta 0:00:02\n",
      "     -------------                            0.7/2.1 MB 1.3 MB/s eta 0:00:02\n",
      "     -------------                            0.7/2.1 MB 1.3 MB/s eta 0:00:02\n",
      "     -------------                            0.7/2.1 MB 1.3 MB/s eta 0:00:02\n",
      "     -------------                            0.7/2.1 MB 1.3 MB/s eta 0:00:02\n",
      "     ---------------                          0.8/2.1 MB 936.2 kB/s eta 0:00:02\n",
      "     ----------------                         0.9/2.1 MB 907.1 kB/s eta 0:00:02\n",
      "     -----------------                        0.9/2.1 MB 897.9 kB/s eta 0:00:02\n",
      "     ------------------                       1.0/2.1 MB 911.9 kB/s eta 0:00:02\n",
      "     -------------------                      1.0/2.1 MB 907.2 kB/s eta 0:00:02\n",
      "     ---------------------                    1.1/2.1 MB 910.8 kB/s eta 0:00:02\n",
      "     ----------------------                   1.2/2.1 MB 922.8 kB/s eta 0:00:02\n",
      "     ----------------------                   1.2/2.1 MB 907.9 kB/s eta 0:00:02\n",
      "     ----------------------                   1.2/2.1 MB 881.6 kB/s eta 0:00:02\n",
      "     ----------------------                   1.2/2.1 MB 881.6 kB/s eta 0:00:02\n",
      "     -----------------------                  1.2/2.1 MB 811.1 kB/s eta 0:00:02\n",
      "     -----------------------                  1.2/2.1 MB 811.1 kB/s eta 0:00:02\n",
      "     -----------------------                  1.2/2.1 MB 811.1 kB/s eta 0:00:02\n",
      "     -----------------------                  1.2/2.1 MB 811.1 kB/s eta 0:00:02\n",
      "     ------------------------                 1.3/2.1 MB 707.2 kB/s eta 0:00:02\n",
      "     ------------------------                 1.3/2.1 MB 707.2 kB/s eta 0:00:02\n",
      "     ------------------------                 1.3/2.1 MB 676.6 kB/s eta 0:00:02\n",
      "     -------------------------                1.3/2.1 MB 676.4 kB/s eta 0:00:02\n",
      "     -------------------------                1.4/2.1 MB 665.5 kB/s eta 0:00:02\n",
      "     --------------------------               1.4/2.1 MB 660.3 kB/s eta 0:00:02\n",
      "     ---------------------------              1.4/2.1 MB 655.5 kB/s eta 0:00:02\n",
      "     ----------------------------             1.5/2.1 MB 664.6 kB/s eta 0:00:01\n",
      "     -----------------------------            1.5/2.1 MB 659.8 kB/s eta 0:00:01\n",
      "     ------------------------------           1.6/2.1 MB 664.0 kB/s eta 0:00:01\n",
      "     ------------------------------           1.6/2.1 MB 668.2 kB/s eta 0:00:01\n",
      "     --------------------------------         1.7/2.1 MB 671.7 kB/s eta 0:00:01\n",
      "     ---------------------------------        1.8/2.1 MB 687.2 kB/s eta 0:00:01\n",
      "     ----------------------------------       1.8/2.1 MB 694.7 kB/s eta 0:00:01\n",
      "     ----------------------------------       1.8/2.1 MB 694.7 kB/s eta 0:00:01\n",
      "     ----------------------------------       1.8/2.1 MB 694.7 kB/s eta 0:00:01\n",
      "     ------------------------------------     1.9/2.1 MB 673.6 kB/s eta 0:00:01\n",
      "     ------------------------------------     1.9/2.1 MB 666.0 kB/s eta 0:00:01\n",
      "     -------------------------------------    2.0/2.1 MB 665.8 kB/s eta 0:00:01\n",
      "     ---------------------------------------  2.1/2.1 MB 679.3 kB/s eta 0:00:01\n",
      "     ---------------------------------------  2.1/2.1 MB 685.6 kB/s eta 0:00:01\n",
      "     ---------------------------------------  2.1/2.1 MB 685.6 kB/s eta 0:00:01\n",
      "     ---------------------------------------- 2.1/2.1 MB 656.4 kB/s eta 0:00:00\n",
      "Requirement already satisfied: jinja2 in c:\\programdata\\anaconda3\\lib\\site-packages (from spacy) (3.1.2)\n",
      "Requirement already satisfied: setuptools in c:\\programdata\\anaconda3\\lib\\site-packages (from spacy) (67.8.0)\n",
      "Requirement already satisfied: packaging>=20.0 in c:\\programdata\\anaconda3\\lib\\site-packages (from spacy) (23.0)\n",
      "Collecting langcodes<4.0.0,>=3.2.0 (from spacy)\n",
      "  Using cached langcodes-3.3.0-py3-none-any.whl (181 kB)\n",
      "Requirement already satisfied: typing-extensions>=4.2.0 in c:\\programdata\\anaconda3\\lib\\site-packages (from pydantic!=1.8,!=1.8.1,<1.11.0,>=1.7.4->spacy) (4.6.3)\n",
      "Requirement already satisfied: charset-normalizer<4,>=2 in c:\\programdata\\anaconda3\\lib\\site-packages (from requests<3.0.0,>=2.13.0->spacy) (2.0.4)\n",
      "Requirement already satisfied: idna<4,>=2.5 in c:\\programdata\\anaconda3\\lib\\site-packages (from requests<3.0.0,>=2.13.0->spacy) (3.4)\n",
      "Requirement already satisfied: urllib3<1.27,>=1.21.1 in c:\\programdata\\anaconda3\\lib\\site-packages (from requests<3.0.0,>=2.13.0->spacy) (1.26.16)\n",
      "Requirement already satisfied: certifi>=2017.4.17 in c:\\programdata\\anaconda3\\lib\\site-packages (from requests<3.0.0,>=2.13.0->spacy) (2023.5.7)\n",
      "Collecting blis<0.8.0,>=0.7.8 (from thinc<8.2.0,>=8.1.8->spacy)\n",
      "  Downloading blis-0.7.10-cp311-cp311-win_amd64.whl (7.4 MB)\n",
      "                                              0.0/7.4 MB ? eta -:--:--\n",
      "                                              0.0/7.4 MB ? eta -:--:--\n",
      "                                              0.0/7.4 MB ? eta -:--:--\n",
      "                                              0.1/7.4 MB 365.7 kB/s eta 0:00:21\n",
      "                                              0.1/7.4 MB 375.8 kB/s eta 0:00:20\n",
      "                                              0.1/7.4 MB 400.9 kB/s eta 0:00:19\n",
      "                                              0.2/7.4 MB 477.7 kB/s eta 0:00:16\n",
      "     -                                        0.2/7.4 MB 535.1 kB/s eta 0:00:14\n",
      "     -                                        0.3/7.4 MB 571.2 kB/s eta 0:00:13\n",
      "     -                                        0.4/7.4 MB 637.7 kB/s eta 0:00:12\n",
      "     --                                       0.4/7.4 MB 655.8 kB/s eta 0:00:11\n",
      "     --                                       0.4/7.4 MB 671.7 kB/s eta 0:00:11\n",
      "     --                                       0.4/7.4 MB 671.7 kB/s eta 0:00:11\n",
      "     --                                       0.5/7.4 MB 566.0 kB/s eta 0:00:13\n",
      "     --                                       0.5/7.4 MB 558.8 kB/s eta 0:00:13\n",
      "     --                                       0.5/7.4 MB 544.8 kB/s eta 0:00:13\n",
      "     ---                                      0.6/7.4 MB 553.0 kB/s eta 0:00:13\n",
      "     ---                                      0.6/7.4 MB 577.6 kB/s eta 0:00:12\n",
      "     ---                                      0.7/7.4 MB 590.9 kB/s eta 0:00:12\n",
      "     ---                                      0.7/7.4 MB 595.2 kB/s eta 0:00:12\n",
      "     ----                                     0.8/7.4 MB 622.6 kB/s eta 0:00:11\n",
      "     ----                                     0.8/7.4 MB 640.0 kB/s eta 0:00:11\n",
      "     ----                                     0.9/7.4 MB 633.0 kB/s eta 0:00:11\n",
      "     -----                                    0.9/7.4 MB 634.3 kB/s eta 0:00:11\n",
      "     -----                                    1.0/7.4 MB 641.7 kB/s eta 0:00:11\n",
      "     -----                                    1.0/7.4 MB 649.0 kB/s eta 0:00:10\n",
      "     -----                                    1.1/7.4 MB 661.9 kB/s eta 0:00:10\n",
      "     ------                                   1.1/7.4 MB 673.8 kB/s eta 0:00:10\n",
      "     ------                                   1.2/7.4 MB 678.8 kB/s eta 0:00:10\n",
      "     ------                                   1.3/7.4 MB 689.0 kB/s eta 0:00:09\n",
      "     -------                                  1.4/7.4 MB 709.8 kB/s eta 0:00:09\n",
      "     -------                                  1.4/7.4 MB 709.8 kB/s eta 0:00:09\n",
      "     -------                                  1.4/7.4 MB 709.8 kB/s eta 0:00:09\n",
      "     -------                                  1.4/7.4 MB 665.3 kB/s eta 0:00:10\n",
      "     -------                                  1.4/7.4 MB 660.2 kB/s eta 0:00:10\n",
      "     -------                                  1.4/7.4 MB 646.3 kB/s eta 0:00:10\n",
      "     -------                                  1.5/7.4 MB 646.5 kB/s eta 0:00:10\n",
      "     --------                                 1.5/7.4 MB 651.1 kB/s eta 0:00:10\n",
      "     --------                                 1.6/7.4 MB 642.9 kB/s eta 0:00:10\n",
      "     --------                                 1.6/7.4 MB 647.1 kB/s eta 0:00:09\n",
      "     --------                                 1.6/7.4 MB 647.1 kB/s eta 0:00:09\n",
      "     --------                                 1.6/7.4 MB 647.1 kB/s eta 0:00:09\n",
      "     --------                                 1.6/7.4 MB 647.1 kB/s eta 0:00:09\n",
      "     --------                                 1.6/7.4 MB 588.0 kB/s eta 0:00:10\n",
      "     --------                                 1.6/7.4 MB 588.8 kB/s eta 0:00:10\n",
      "     --------                                 1.6/7.4 MB 569.9 kB/s eta 0:00:11\n",
      "     ---------                                1.7/7.4 MB 564.8 kB/s eta 0:00:11\n",
      "     ---------                                1.7/7.4 MB 562.8 kB/s eta 0:00:11\n",
      "     ---------                                1.7/7.4 MB 561.8 kB/s eta 0:00:11\n",
      "     ---------                                1.8/7.4 MB 564.2 kB/s eta 0:00:10\n",
      "     ---------                                1.8/7.4 MB 565.9 kB/s eta 0:00:10\n",
      "     ---------                                1.8/7.4 MB 565.9 kB/s eta 0:00:10\n",
      "     ---------                                1.8/7.4 MB 565.9 kB/s eta 0:00:10\n",
      "     ----------                               1.9/7.4 MB 549.2 kB/s eta 0:00:11\n",
      "     ----------                               1.9/7.4 MB 542.2 kB/s eta 0:00:11\n",
      "     ----------                               1.9/7.4 MB 540.8 kB/s eta 0:00:11\n",
      "     ----------                               1.9/7.4 MB 540.9 kB/s eta 0:00:11\n",
      "     ----------                               2.0/7.4 MB 540.1 kB/s eta 0:00:11\n",
      "     ----------                               2.0/7.4 MB 539.2 kB/s eta 0:00:11\n",
      "     ----------                               2.0/7.4 MB 540.2 kB/s eta 0:00:10\n",
      "     ----------                               2.0/7.4 MB 540.2 kB/s eta 0:00:10\n",
      "     ----------                               2.0/7.4 MB 540.2 kB/s eta 0:00:10\n",
      "     ----------                               2.0/7.4 MB 540.2 kB/s eta 0:00:10\n",
      "     -----------                              2.1/7.4 MB 506.2 kB/s eta 0:00:11\n",
      "     -----------                              2.1/7.4 MB 506.2 kB/s eta 0:00:11\n",
      "     -----------                              2.1/7.4 MB 495.2 kB/s eta 0:00:11\n",
      "     -----------                              2.1/7.4 MB 495.2 kB/s eta 0:00:11\n",
      "     -----------                              2.1/7.4 MB 487.4 kB/s eta 0:00:11\n",
      "     -----------                              2.1/7.4 MB 486.3 kB/s eta 0:00:11\n",
      "     -----------                              2.2/7.4 MB 486.4 kB/s eta 0:00:11\n",
      "     -----------                              2.2/7.4 MB 485.2 kB/s eta 0:00:11\n",
      "     -----------                              2.2/7.4 MB 485.2 kB/s eta 0:00:11\n",
      "     -----------                              2.2/7.4 MB 485.2 kB/s eta 0:00:11\n",
      "     -----------                              2.2/7.4 MB 471.3 kB/s eta 0:00:12\n",
      "     -----------                              2.2/7.4 MB 471.3 kB/s eta 0:00:12\n",
      "     ------------                             2.2/7.4 MB 465.6 kB/s eta 0:00:12\n",
      "     ------------                             2.2/7.4 MB 463.9 kB/s eta 0:00:12\n",
      "     ------------                             2.3/7.4 MB 462.8 kB/s eta 0:00:12\n",
      "     ------------                             2.3/7.4 MB 462.8 kB/s eta 0:00:12\n",
      "     ------------                             2.3/7.4 MB 458.8 kB/s eta 0:00:12\n",
      "     ------------                             2.3/7.4 MB 458.8 kB/s eta 0:00:12\n",
      "     ------------                             2.3/7.4 MB 458.8 kB/s eta 0:00:12\n",
      "     ------------                             2.3/7.4 MB 447.5 kB/s eta 0:00:12\n",
      "     ------------                             2.3/7.4 MB 445.5 kB/s eta 0:00:12\n",
      "     ------------                             2.3/7.4 MB 443.4 kB/s eta 0:00:12\n",
      "     ------------                             2.4/7.4 MB 440.1 kB/s eta 0:00:12\n",
      "     ------------                             2.4/7.4 MB 438.8 kB/s eta 0:00:12\n",
      "     -------------                            2.4/7.4 MB 439.4 kB/s eta 0:00:12\n",
      "     -------------                            2.5/7.4 MB 440.0 kB/s eta 0:00:12\n",
      "     -------------                            2.5/7.4 MB 443.6 kB/s eta 0:00:12\n",
      "     -------------                            2.5/7.4 MB 443.5 kB/s eta 0:00:11\n",
      "     -------------                            2.6/7.4 MB 447.0 kB/s eta 0:00:11\n",
      "     -------------                            2.6/7.4 MB 447.0 kB/s eta 0:00:11\n",
      "     -------------                            2.6/7.4 MB 447.0 kB/s eta 0:00:11\n",
      "     --------------                           2.6/7.4 MB 438.6 kB/s eta 0:00:11\n",
      "     --------------                           2.6/7.4 MB 435.8 kB/s eta 0:00:11\n",
      "     --------------                           2.7/7.4 MB 434.7 kB/s eta 0:00:11\n",
      "     --------------                           2.7/7.4 MB 436.3 kB/s eta 0:00:11\n",
      "     --------------                           2.7/7.4 MB 436.4 kB/s eta 0:00:11\n",
      "     --------------                           2.8/7.4 MB 439.7 kB/s eta 0:00:11\n",
      "     ---------------                          2.8/7.4 MB 442.3 kB/s eta 0:00:11\n",
      "     ---------------                          2.9/7.4 MB 445.5 kB/s eta 0:00:11\n",
      "     ---------------                          2.9/7.4 MB 445.5 kB/s eta 0:00:11\n",
      "     ---------------                          2.9/7.4 MB 445.5 kB/s eta 0:00:11\n",
      "     ---------------                          2.9/7.4 MB 445.5 kB/s eta 0:00:11\n",
      "     ---------------                          2.9/7.4 MB 435.4 kB/s eta 0:00:11\n",
      "     ---------------                          2.9/7.4 MB 434.4 kB/s eta 0:00:11\n",
      "     ---------------                          2.9/7.4 MB 432.9 kB/s eta 0:00:11\n",
      "     ----------------                         3.0/7.4 MB 433.4 kB/s eta 0:00:11\n",
      "     ----------------                         3.0/7.4 MB 435.9 kB/s eta 0:00:11\n",
      "     ----------------                         3.1/7.4 MB 436.5 kB/s eta 0:00:10\n",
      "     ----------------                         3.1/7.4 MB 439.4 kB/s eta 0:00:10\n",
      "     ----------------                         3.1/7.4 MB 437.9 kB/s eta 0:00:10\n",
      "     ----------------                         3.1/7.4 MB 437.9 kB/s eta 0:00:10\n",
      "     ----------------                         3.1/7.4 MB 433.6 kB/s eta 0:00:10\n",
      "     ----------------                         3.1/7.4 MB 432.2 kB/s eta 0:00:10\n",
      "     -----------------                        3.2/7.4 MB 429.9 kB/s eta 0:00:10\n",
      "     -----------------                        3.2/7.4 MB 430.9 kB/s eta 0:00:10\n",
      "     -----------------                        3.2/7.4 MB 430.6 kB/s eta 0:00:10\n",
      "     -----------------                        3.3/7.4 MB 433.7 kB/s eta 0:00:10\n",
      "     -----------------                        3.3/7.4 MB 434.3 kB/s eta 0:00:10\n",
      "     ------------------                       3.4/7.4 MB 437.4 kB/s eta 0:00:10\n",
      "     ------------------                       3.4/7.4 MB 439.2 kB/s eta 0:00:10\n",
      "     ------------------                       3.5/7.4 MB 442.2 kB/s eta 0:00:09\n",
      "     ------------------                       3.5/7.4 MB 445.2 kB/s eta 0:00:09\n",
      "     -------------------                      3.6/7.4 MB 451.2 kB/s eta 0:00:09\n",
      "     -------------------                      3.7/7.4 MB 456.1 kB/s eta 0:00:09\n",
      "     --------------------                     3.8/7.4 MB 462.2 kB/s eta 0:00:08\n",
      "     --------------------                     3.8/7.4 MB 468.7 kB/s eta 0:00:08\n",
      "     ---------------------                    3.9/7.4 MB 475.8 kB/s eta 0:00:08\n",
      "     ---------------------                    4.0/7.4 MB 480.5 kB/s eta 0:00:08\n",
      "     ---------------------                    4.0/7.4 MB 480.5 kB/s eta 0:00:08\n",
      "     ---------------------                    4.0/7.4 MB 480.5 kB/s eta 0:00:08\n",
      "     ---------------------                    4.0/7.4 MB 480.5 kB/s eta 0:00:08\n",
      "     ---------------------                    4.1/7.4 MB 471.5 kB/s eta 0:00:08\n",
      "     ---------------------                    4.1/7.4 MB 470.1 kB/s eta 0:00:08\n",
      "     ----------------------                   4.1/7.4 MB 470.6 kB/s eta 0:00:07\n",
      "     ----------------------                   4.2/7.4 MB 471.5 kB/s eta 0:00:07\n",
      "     ----------------------                   4.2/7.4 MB 475.9 kB/s eta 0:00:07\n",
      "     -----------------------                  4.3/7.4 MB 480.6 kB/s eta 0:00:07\n",
      "     -----------------------                  4.3/7.4 MB 483.8 kB/s eta 0:00:07\n",
      "     -----------------------                  4.4/7.4 MB 486.4 kB/s eta 0:00:07\n",
      "     ------------------------                 4.4/7.4 MB 486.8 kB/s eta 0:00:07\n",
      "     ------------------------                 4.5/7.4 MB 489.1 kB/s eta 0:00:06\n",
      "     ------------------------                 4.5/7.4 MB 492.1 kB/s eta 0:00:06\n",
      "     ------------------------                 4.6/7.4 MB 494.6 kB/s eta 0:00:06\n",
      "     -------------------------                4.7/7.4 MB 496.7 kB/s eta 0:00:06\n",
      "     -------------------------                4.7/7.4 MB 501.1 kB/s eta 0:00:06\n",
      "     -------------------------                4.8/7.4 MB 505.3 kB/s eta 0:00:06\n",
      "     --------------------------               4.9/7.4 MB 508.5 kB/s eta 0:00:05\n",
      "     --------------------------               4.9/7.4 MB 510.5 kB/s eta 0:00:05\n",
      "     --------------------------               4.9/7.4 MB 510.5 kB/s eta 0:00:05\n",
      "     --------------------------               4.9/7.4 MB 510.5 kB/s eta 0:00:05\n",
      "     --------------------------               4.9/7.4 MB 503.8 kB/s eta 0:00:05\n",
      "     --------------------------               5.0/7.4 MB 503.2 kB/s eta 0:00:05\n",
      "     --------------------------               5.0/7.4 MB 502.4 kB/s eta 0:00:05\n",
      "     ---------------------------              5.0/7.4 MB 502.3 kB/s eta 0:00:05\n",
      "     ---------------------------              5.0/7.4 MB 502.0 kB/s eta 0:00:05\n",
      "     ---------------------------              5.1/7.4 MB 503.2 kB/s eta 0:00:05\n",
      "     ---------------------------              5.1/7.4 MB 505.1 kB/s eta 0:00:05\n",
      "     ---------------------------              5.2/7.4 MB 505.8 kB/s eta 0:00:05\n",
      "     ----------------------------             5.2/7.4 MB 505.3 kB/s eta 0:00:05\n",
      "     ----------------------------             5.2/7.4 MB 505.3 kB/s eta 0:00:05\n",
      "     ----------------------------             5.2/7.4 MB 505.3 kB/s eta 0:00:05\n",
      "     ----------------------------             5.2/7.4 MB 499.9 kB/s eta 0:00:05\n",
      "     ----------------------------             5.2/7.4 MB 499.9 kB/s eta 0:00:05\n",
      "     ----------------------------             5.3/7.4 MB 497.6 kB/s eta 0:00:05\n",
      "     ----------------------------             5.3/7.4 MB 497.6 kB/s eta 0:00:05\n",
      "     ----------------------------             5.3/7.4 MB 498.0 kB/s eta 0:00:05\n",
      "     -----------------------------            5.4/7.4 MB 498.2 kB/s eta 0:00:05\n",
      "     -----------------------------            5.4/7.4 MB 499.9 kB/s eta 0:00:04\n",
      "     -----------------------------            5.4/7.4 MB 500.0 kB/s eta 0:00:04\n",
      "     -----------------------------            5.4/7.4 MB 500.0 kB/s eta 0:00:04\n",
      "     -----------------------------            5.4/7.4 MB 500.0 kB/s eta 0:00:04\n",
      "     -----------------------------            5.5/7.4 MB 495.2 kB/s eta 0:00:04\n",
      "     -----------------------------            5.5/7.4 MB 495.2 kB/s eta 0:00:04\n",
      "     -----------------------------            5.5/7.4 MB 493.4 kB/s eta 0:00:04\n",
      "     ------------------------------           5.6/7.4 MB 492.7 kB/s eta 0:00:04\n",
      "     ------------------------------           5.6/7.4 MB 493.4 kB/s eta 0:00:04\n",
      "     ------------------------------           5.6/7.4 MB 493.3 kB/s eta 0:00:04\n",
      "     ------------------------------           5.7/7.4 MB 494.0 kB/s eta 0:00:04\n",
      "     ------------------------------           5.7/7.4 MB 495.1 kB/s eta 0:00:04\n",
      "     -------------------------------          5.7/7.4 MB 495.3 kB/s eta 0:00:04\n",
      "     -------------------------------          5.8/7.4 MB 495.7 kB/s eta 0:00:04\n",
      "     -------------------------------          5.8/7.4 MB 495.7 kB/s eta 0:00:04\n",
      "     -------------------------------          5.8/7.4 MB 495.7 kB/s eta 0:00:04\n",
      "     -------------------------------          5.9/7.4 MB 497.2 kB/s eta 0:00:04\n",
      "     -------------------------------          5.9/7.4 MB 498.0 kB/s eta 0:00:03\n",
      "     --------------------------------         6.0/7.4 MB 499.1 kB/s eta 0:00:03\n",
      "     --------------------------------         6.0/7.4 MB 499.7 kB/s eta 0:00:03\n",
      "     --------------------------------         6.0/7.4 MB 500.7 kB/s eta 0:00:03\n",
      "     --------------------------------         6.1/7.4 MB 503.0 kB/s eta 0:00:03\n",
      "     ---------------------------------        6.2/7.4 MB 504.8 kB/s eta 0:00:03\n",
      "     ---------------------------------        6.2/7.4 MB 507.1 kB/s eta 0:00:03\n",
      "     ---------------------------------        6.3/7.4 MB 508.6 kB/s eta 0:00:03\n",
      "     ----------------------------------       6.3/7.4 MB 511.0 kB/s eta 0:00:03\n",
      "     ----------------------------------       6.4/7.4 MB 515.3 kB/s eta 0:00:02\n",
      "     -----------------------------------      6.5/7.4 MB 518.4 kB/s eta 0:00:02\n",
      "     -----------------------------------      6.6/7.4 MB 522.4 kB/s eta 0:00:02\n",
      "     -----------------------------------      6.6/7.4 MB 525.6 kB/s eta 0:00:02\n",
      "     ------------------------------------     6.7/7.4 MB 527.7 kB/s eta 0:00:02\n",
      "     ------------------------------------     6.8/7.4 MB 532.2 kB/s eta 0:00:02\n",
      "     -------------------------------------    6.9/7.4 MB 535.5 kB/s eta 0:00:01\n",
      "     -------------------------------------    6.9/7.4 MB 535.5 kB/s eta 0:00:01\n",
      "     -------------------------------------    6.9/7.4 MB 535.5 kB/s eta 0:00:01\n",
      "     -------------------------------------    6.9/7.4 MB 533.0 kB/s eta 0:00:01\n",
      "     -------------------------------------    7.0/7.4 MB 531.5 kB/s eta 0:00:01\n",
      "     -------------------------------------    7.0/7.4 MB 532.0 kB/s eta 0:00:01\n",
      "     --------------------------------------   7.1/7.4 MB 535.0 kB/s eta 0:00:01\n",
      "     --------------------------------------   7.1/7.4 MB 538.1 kB/s eta 0:00:01\n",
      "     --------------------------------------   7.2/7.4 MB 539.9 kB/s eta 0:00:01\n",
      "     ---------------------------------------  7.3/7.4 MB 542.8 kB/s eta 0:00:01\n",
      "     ---------------------------------------  7.3/7.4 MB 544.9 kB/s eta 0:00:01\n",
      "     ---------------------------------------  7.4/7.4 MB 546.1 kB/s eta 0:00:01\n",
      "     ---------------------------------------  7.4/7.4 MB 545.6 kB/s eta 0:00:01\n",
      "     ---------------------------------------  7.4/7.4 MB 545.6 kB/s eta 0:00:01\n",
      "     ---------------------------------------  7.4/7.4 MB 545.6 kB/s eta 0:00:01\n",
      "     ---------------------------------------  7.4/7.4 MB 545.6 kB/s eta 0:00:01\n",
      "     ---------------------------------------- 7.4/7.4 MB 533.2 kB/s eta 0:00:00\n",
      "Collecting confection<1.0.0,>=0.0.1 (from thinc<8.2.0,>=8.1.8->spacy)\n",
      "  Downloading confection-0.1.0-py3-none-any.whl (34 kB)\n",
      "Requirement already satisfied: colorama in c:\\programdata\\anaconda3\\lib\\site-packages (from tqdm<5.0.0,>=4.38.0->spacy) (0.4.6)\n",
      "Requirement already satisfied: click<9.0.0,>=7.1.1 in c:\\programdata\\anaconda3\\lib\\site-packages (from typer<0.10.0,>=0.3.0->spacy) (8.0.4)\n",
      "Requirement already satisfied: MarkupSafe>=2.0 in c:\\programdata\\anaconda3\\lib\\site-packages (from jinja2->spacy) (2.1.1)\n",
      "Installing collected packages: cymem, wasabi, spacy-loggers, spacy-legacy, pydantic, murmurhash, langcodes, catalogue, blis, typer, srsly, preshed, pathy, confection, thinc, spacy\n",
      "Successfully installed blis-0.7.10 catalogue-2.0.9 confection-0.1.0 cymem-2.0.7 langcodes-3.3.0 murmurhash-1.0.9 pathy-0.10.2 preshed-3.0.8 pydantic-1.10.12 spacy-3.6.0 spacy-legacy-3.0.12 spacy-loggers-1.0.4 srsly-2.4.7 thinc-8.1.10 typer-0.9.0 wasabi-1.1.2\n"
     ]
    },
    {
     "name": "stderr",
     "output_type": "stream",
     "text": [
      "  WARNING: The script pathy.exe is installed in 'C:\\Users\\dibya_xo5nlek\\AppData\\Roaming\\Python\\Python311\\Scripts' which is not on PATH.\n",
      "  Consider adding this directory to PATH or, if you prefer to suppress this warning, use --no-warn-script-location.\n",
      "  WARNING: The script spacy.exe is installed in 'C:\\Users\\dibya_xo5nlek\\AppData\\Roaming\\Python\\Python311\\Scripts' which is not on PATH.\n",
      "  Consider adding this directory to PATH or, if you prefer to suppress this warning, use --no-warn-script-location.\n"
     ]
    }
   ],
   "source": [
    "!pip install spacy"
   ]
  },
  {
   "cell_type": "code",
   "execution_count": 17,
   "metadata": {
    "scrolled": true
   },
   "outputs": [
    {
     "name": "stdout",
     "output_type": "stream",
     "text": [
      "Defaulting to user installation because normal site-packages is not writeable\n",
      "Collecting textblob\n",
      "  Downloading textblob-0.17.1-py2.py3-none-any.whl (636 kB)\n",
      "                                              0.0/636.8 kB ? eta -:--:--\n",
      "     --                                      41.0/636.8 kB 1.9 MB/s eta 0:00:01\n",
      "     --                                      41.0/636.8 kB 1.9 MB/s eta 0:00:01\n",
      "     --                                      41.0/636.8 kB 1.9 MB/s eta 0:00:01\n",
      "     --                                      41.0/636.8 kB 1.9 MB/s eta 0:00:01\n",
      "     -----                                 92.2/636.8 kB 290.5 kB/s eta 0:00:02\n",
      "     ------                               112.6/636.8 kB 311.2 kB/s eta 0:00:02\n",
      "     ------                               122.9/636.8 kB 300.4 kB/s eta 0:00:02\n",
      "     ---------                            174.1/636.8 kB 337.8 kB/s eta 0:00:02\n",
      "     ------------                         225.3/636.8 kB 404.2 kB/s eta 0:00:02\n",
      "     ----------------                     286.7/636.8 kB 453.2 kB/s eta 0:00:01\n",
      "     -------------------                  337.9/636.8 kB 487.6 kB/s eta 0:00:01\n",
      "     -------------------                  337.9/636.8 kB 487.6 kB/s eta 0:00:01\n",
      "     -------------------                  337.9/636.8 kB 487.6 kB/s eta 0:00:01\n",
      "     --------------------                 368.6/636.8 kB 424.6 kB/s eta 0:00:01\n",
      "     ---------------------                389.1/636.8 kB 410.9 kB/s eta 0:00:01\n",
      "     -----------------------              409.6/636.8 kB 412.1 kB/s eta 0:00:01\n",
      "     ------------------------             440.3/636.8 kB 404.6 kB/s eta 0:00:01\n",
      "     ---------------------------          491.5/636.8 kB 427.8 kB/s eta 0:00:01\n",
      "     ------------------------------       532.5/636.8 kB 433.8 kB/s eta 0:00:01\n",
      "     --------------------------------     573.4/636.8 kB 456.0 kB/s eta 0:00:01\n",
      "     -----------------------------------  634.9/636.8 kB 470.0 kB/s eta 0:00:01\n",
      "     -----------------------------------  634.9/636.8 kB 470.0 kB/s eta 0:00:01\n",
      "     ------------------------------------ 636.8/636.8 kB 440.6 kB/s eta 0:00:00\n",
      "Requirement already satisfied: nltk>=3.1 in c:\\programdata\\anaconda3\\lib\\site-packages (from textblob) (3.7)\n",
      "Requirement already satisfied: click in c:\\programdata\\anaconda3\\lib\\site-packages (from nltk>=3.1->textblob) (8.0.4)\n",
      "Requirement already satisfied: joblib in c:\\programdata\\anaconda3\\lib\\site-packages (from nltk>=3.1->textblob) (1.2.0)\n",
      "Requirement already satisfied: regex>=2021.8.3 in c:\\programdata\\anaconda3\\lib\\site-packages (from nltk>=3.1->textblob) (2022.7.9)\n",
      "Requirement already satisfied: tqdm in c:\\programdata\\anaconda3\\lib\\site-packages (from nltk>=3.1->textblob) (4.65.0)\n",
      "Requirement already satisfied: colorama in c:\\programdata\\anaconda3\\lib\\site-packages (from click->nltk>=3.1->textblob) (0.4.6)\n",
      "Installing collected packages: textblob\n",
      "Successfully installed textblob-0.17.1\n"
     ]
    }
   ],
   "source": [
    "!pip install textblob"
   ]
  },
  {
   "cell_type": "code",
   "execution_count": 18,
   "metadata": {
    "id": "fzaq4DdC1mvJ"
   },
   "outputs": [],
   "source": [
    "import spacy\n",
    "import re,string,unicodedata\n",
    "from nltk.tokenize.toktok import ToktokTokenizer\n",
    "from nltk.stem import LancasterStemmer,WordNetLemmatizer\n",
    "from sklearn.linear_model import LogisticRegression,SGDClassifier\n",
    "from sklearn.naive_bayes import MultinomialNB\n",
    "from sklearn.svm import SVC\n",
    "from textblob import TextBlob\n",
    "from textblob import Word\n",
    "from sklearn.metrics import classification_report,confusion_matrix,accuracy_score\n",
    "from bs4 import BeautifulSoup\n"
   ]
  },
  {
   "cell_type": "code",
   "execution_count": 19,
   "metadata": {
    "colab": {
     "base_uri": "https://localhost:8080/"
    },
    "id": "iWo8JHXV3Fhg",
    "outputId": "05b668d3-1274-41f8-be54-5b762a272605"
   },
   "outputs": [
    {
     "name": "stderr",
     "output_type": "stream",
     "text": [
      "[nltk_data] Error loading stopwords: <urlopen error [WinError 10060] A\n",
      "[nltk_data]     connection attempt failed because the connected party\n",
      "[nltk_data]     did not properly respond after a period of time, or\n",
      "[nltk_data]     established connection failed because connected host\n",
      "[nltk_data]     has failed to respond>\n"
     ]
    },
    {
     "data": {
      "text/plain": [
       "False"
      ]
     },
     "execution_count": 19,
     "metadata": {},
     "output_type": "execute_result"
    }
   ],
   "source": [
    "import nltk\n",
    "nltk.download('stopwords')"
   ]
  },
  {
   "cell_type": "code",
   "execution_count": 20,
   "metadata": {
    "id": "3mschY5u1qeW"
   },
   "outputs": [],
   "source": [
    "#Tokenization of text\n",
    "tokenizers=ToktokTokenizer()\n",
    "#Setting English stopwords\n",
    "stopwords=nltk.corpus.stopwords.words('english')"
   ]
  },
  {
   "cell_type": "code",
   "execution_count": 21,
   "metadata": {
    "id": "vAQgpkNls3ol"
   },
   "outputs": [],
   "source": [
    "#Removing the noisy text\n",
    "def noiseremoval_text(text):\n",
    "  soup = BeautifulSoup(text, \"html.parser\")\n",
    "  text = soup.get_text()\n",
    "  text = re.sub('\\[[^]]*\\]', '', text)\n",
    "  return text\n"
   ]
  },
  {
   "cell_type": "code",
   "execution_count": 22,
   "metadata": {
    "id": "ZmRHbHz97oQh"
   },
   "outputs": [
    {
     "name": "stderr",
     "output_type": "stream",
     "text": [
      "C:\\Users\\dibya_xo5nlek\\AppData\\Local\\Temp\\ipykernel_1812\\3885688092.py:3: MarkupResemblesLocatorWarning: The input looks more like a filename than markup. You may want to open this file and pass the filehandle into Beautiful Soup.\n",
      "  soup = BeautifulSoup(text, \"html.parser\")\n"
     ]
    }
   ],
   "source": [
    "#Apply function on review column\n",
    "data['review']=data['review'].apply(noiseremoval_text)"
   ]
  },
  {
   "cell_type": "code",
   "execution_count": 23,
   "metadata": {
    "colab": {
     "base_uri": "https://localhost:8080/",
     "height": 204
    },
    "id": "45QbIgD_7reR",
    "outputId": "b843c171-dcde-4a2c-b2d1-e7ed1a41bd7e"
   },
   "outputs": [
    {
     "data": {
      "text/html": [
       "<div>\n",
       "<style scoped>\n",
       "    .dataframe tbody tr th:only-of-type {\n",
       "        vertical-align: middle;\n",
       "    }\n",
       "\n",
       "    .dataframe tbody tr th {\n",
       "        vertical-align: top;\n",
       "    }\n",
       "\n",
       "    .dataframe thead th {\n",
       "        text-align: right;\n",
       "    }\n",
       "</style>\n",
       "<table border=\"1\" class=\"dataframe\">\n",
       "  <thead>\n",
       "    <tr style=\"text-align: right;\">\n",
       "      <th></th>\n",
       "      <th>review</th>\n",
       "      <th>sentiment</th>\n",
       "    </tr>\n",
       "  </thead>\n",
       "  <tbody>\n",
       "    <tr>\n",
       "      <th>0</th>\n",
       "      <td>One of the other reviewers has mentioned that ...</td>\n",
       "      <td>positive</td>\n",
       "    </tr>\n",
       "    <tr>\n",
       "      <th>1</th>\n",
       "      <td>A wonderful little production. The filming tec...</td>\n",
       "      <td>positive</td>\n",
       "    </tr>\n",
       "    <tr>\n",
       "      <th>2</th>\n",
       "      <td>I thought this was a wonderful way to spend ti...</td>\n",
       "      <td>positive</td>\n",
       "    </tr>\n",
       "    <tr>\n",
       "      <th>3</th>\n",
       "      <td>Basically there's a family where a little boy ...</td>\n",
       "      <td>negative</td>\n",
       "    </tr>\n",
       "    <tr>\n",
       "      <th>4</th>\n",
       "      <td>Petter Mattei's \"Love in the Time of Money\" is...</td>\n",
       "      <td>positive</td>\n",
       "    </tr>\n",
       "  </tbody>\n",
       "</table>\n",
       "</div>"
      ],
      "text/plain": [
       "                                              review sentiment\n",
       "0  One of the other reviewers has mentioned that ...  positive\n",
       "1  A wonderful little production. The filming tec...  positive\n",
       "2  I thought this was a wonderful way to spend ti...  positive\n",
       "3  Basically there's a family where a little boy ...  negative\n",
       "4  Petter Mattei's \"Love in the Time of Money\" is...  positive"
      ]
     },
     "execution_count": 23,
     "metadata": {},
     "output_type": "execute_result"
    }
   ],
   "source": [
    "data.head()"
   ]
  },
  {
   "cell_type": "markdown",
   "metadata": {
    "id": "IFAmqgo_tbUW"
   },
   "source": [
    "## Stemming"
   ]
  },
  {
   "cell_type": "code",
   "execution_count": 24,
   "metadata": {
    "id": "m_p_UX2Z8VuA"
   },
   "outputs": [],
   "source": [
    "#Stemming the text\n",
    "def stemmer(text):\n",
    "    ps=nltk.porter.PorterStemmer()\n",
    "    text= ' '.join([ps.stem(word) for word in text.split()])\n",
    "    return text\n"
   ]
  },
  {
   "cell_type": "code",
   "execution_count": 28,
   "metadata": {
    "id": "iRLXDoHPupAm"
   },
   "outputs": [],
   "source": [
    "#Apply function on review column\n",
    "data['review']=data['review'].apply(stemmer)"
   ]
  },
  {
   "cell_type": "code",
   "execution_count": 29,
   "metadata": {
    "colab": {
     "base_uri": "https://localhost:8080/",
     "height": 204
    },
    "id": "prrKKmx7up9A",
    "outputId": "6942c61c-7e38-4c1a-829f-7fd9d3ed4a65"
   },
   "outputs": [
    {
     "data": {
      "text/html": [
       "<div>\n",
       "<style scoped>\n",
       "    .dataframe tbody tr th:only-of-type {\n",
       "        vertical-align: middle;\n",
       "    }\n",
       "\n",
       "    .dataframe tbody tr th {\n",
       "        vertical-align: top;\n",
       "    }\n",
       "\n",
       "    .dataframe thead th {\n",
       "        text-align: right;\n",
       "    }\n",
       "</style>\n",
       "<table border=\"1\" class=\"dataframe\">\n",
       "  <thead>\n",
       "    <tr style=\"text-align: right;\">\n",
       "      <th></th>\n",
       "      <th>review</th>\n",
       "      <th>sentiment</th>\n",
       "    </tr>\n",
       "  </thead>\n",
       "  <tbody>\n",
       "    <tr>\n",
       "      <th>0</th>\n",
       "      <td>one of the other review ha mention that after ...</td>\n",
       "      <td>positive</td>\n",
       "    </tr>\n",
       "    <tr>\n",
       "      <th>1</th>\n",
       "      <td>a wonder littl production. the film techniqu i...</td>\n",
       "      <td>positive</td>\n",
       "    </tr>\n",
       "    <tr>\n",
       "      <th>2</th>\n",
       "      <td>i thought thi wa a wonder way to spend time on...</td>\n",
       "      <td>positive</td>\n",
       "    </tr>\n",
       "    <tr>\n",
       "      <th>3</th>\n",
       "      <td>basic there' a famili where a littl boy (jake)...</td>\n",
       "      <td>negative</td>\n",
       "    </tr>\n",
       "    <tr>\n",
       "      <th>4</th>\n",
       "      <td>petter mattei' \"love in the time of money\" is ...</td>\n",
       "      <td>positive</td>\n",
       "    </tr>\n",
       "  </tbody>\n",
       "</table>\n",
       "</div>"
      ],
      "text/plain": [
       "                                              review sentiment\n",
       "0  one of the other review ha mention that after ...  positive\n",
       "1  a wonder littl production. the film techniqu i...  positive\n",
       "2  i thought thi wa a wonder way to spend time on...  positive\n",
       "3  basic there' a famili where a littl boy (jake)...  negative\n",
       "4  petter mattei' \"love in the time of money\" is ...  positive"
      ]
     },
     "execution_count": 29,
     "metadata": {},
     "output_type": "execute_result"
    }
   ],
   "source": [
    "data.head()"
   ]
  },
  {
   "cell_type": "markdown",
   "metadata": {
    "id": "udDe4pIA0uO0"
   },
   "source": [
    "## Removing stop words"
   ]
  },
  {
   "cell_type": "code",
   "execution_count": 30,
   "metadata": {
    "id": "wl5Kat8T-Ob7"
   },
   "outputs": [],
   "source": [
    "from nltk.corpus import stopwords  \n",
    "from nltk.tokenize import word_tokenize  \n"
   ]
  },
  {
   "cell_type": "code",
   "execution_count": 31,
   "metadata": {
    "colab": {
     "base_uri": "https://localhost:8080/"
    },
    "id": "2s9292VJ81Xb",
    "outputId": "a154e892-6467-43b0-fb88-7f8282355a2a"
   },
   "outputs": [
    {
     "name": "stdout",
     "output_type": "stream",
     "text": [
      "{\"don't\", 're', 'couldn', 'y', 'haven', 'any', 'in', 'now', 'yours', 'or', 'most', 'doesn', 'himself', 'this', 'than', 'and', 'its', 'while', 'being', 'how', 'out', 'can', 'each', \"couldn't\", 'mightn', \"haven't\", 'has', 'that', 'into', 'because', 'an', 'during', 'me', 'have', 'no', 'should', 'why', 'when', \"should've\", \"doesn't\", 'them', 'through', 'over', 'both', 'about', 'were', \"didn't\", 'under', 'more', 'very', \"you're\", \"that'll\", 'do', \"shan't\", 've', 'hasn', 'is', 'did', 'shan', 'yourselves', 'such', 'theirs', 'on', 'does', 'will', 'didn', \"wouldn't\", 'up', \"mustn't\", 'my', 'ma', 'myself', 'won', 'hers', 'his', 'm', 'their', 'again', 'for', 'themselves', 'to', 'where', 'doing', \"you've\", \"she's\", 'weren', 'few', \"wasn't\", 'yourself', 'nor', 'be', 'had', 'herself', 'a', 'ain', 'what', 'those', \"aren't\", 'aren', 'been', \"weren't\", 'ourselves', 'once', 'from', 'your', \"won't\", \"isn't\", \"you'll\", 'having', 'll', 'am', 'only', 'these', \"it's\", 'i', 'before', 'needn', 'o', 'wasn', 'don', 'isn', 'so', 'same', 'itself', 't', 'he', 's', \"hadn't\", 'shouldn', 'against', 'but', 'hadn', 'was', 'they', 'which', 'ours', 'own', \"you'd\", 'mustn', 'then', \"shouldn't\", 'below', 'down', 'who', 'other', \"hasn't\", 'not', 'by', 'off', 'him', 'are', 'whom', 'here', 'some', 'there', 'at', 'wouldn', 'all', \"needn't\", 'as', 'she', \"mightn't\", 'it', 'of', 'between', 'further', 'the', 'after', 'until', 'her', 'if', 'just', 'our', 'we', 'd', 'too', 'above', 'with', 'you'}\n"
     ]
    }
   ],
   "source": [
    "#set stopwords to english\n",
    "\n",
    "stop_wr=set(stopwords.words('english'))\n",
    "print(stop_wr)"
   ]
  },
  {
   "cell_type": "code",
   "execution_count": 32,
   "metadata": {
    "id": "rk848WWE9jN4"
   },
   "outputs": [],
   "source": [
    "#removing the stopwords\n",
    "def removing_stopwords(text, is_lower_case=False):\n",
    "    #Tokenization of text\n",
    "    tokenizers=ToktokTokenizer()\n",
    "    #Setting English stopwords\n",
    "    tokens = tokenizers.tokenize(text)\n",
    "    tokens = [token.strip() for token in tokens]\n",
    "    if is_lower_case:\n",
    "        filter_tokens = [token for token in tokens if token not in stop_wr]\n",
    "    else:\n",
    "        filter_tokens = [token for token in tokens if token.lower() not in stop_wr]\n",
    "    filtered_text = ' '.join(filter_tokens)    \n",
    "    return filtered_text\n"
   ]
  },
  {
   "cell_type": "code",
   "execution_count": 33,
   "metadata": {
    "id": "0ClYfEZDvTH8"
   },
   "outputs": [],
   "source": [
    "#Apply function on review column\n",
    "data['review']=data['review'].apply(removing_stopwords)"
   ]
  },
  {
   "cell_type": "code",
   "execution_count": 34,
   "metadata": {
    "colab": {
     "base_uri": "https://localhost:8080/",
     "height": 204
    },
    "id": "kEzyu44xvWVQ",
    "outputId": "b16e2598-59ea-4b01-a066-5c5e3be178d4"
   },
   "outputs": [
    {
     "data": {
      "text/html": [
       "<div>\n",
       "<style scoped>\n",
       "    .dataframe tbody tr th:only-of-type {\n",
       "        vertical-align: middle;\n",
       "    }\n",
       "\n",
       "    .dataframe tbody tr th {\n",
       "        vertical-align: top;\n",
       "    }\n",
       "\n",
       "    .dataframe thead th {\n",
       "        text-align: right;\n",
       "    }\n",
       "</style>\n",
       "<table border=\"1\" class=\"dataframe\">\n",
       "  <thead>\n",
       "    <tr style=\"text-align: right;\">\n",
       "      <th></th>\n",
       "      <th>review</th>\n",
       "      <th>sentiment</th>\n",
       "    </tr>\n",
       "  </thead>\n",
       "  <tbody>\n",
       "    <tr>\n",
       "      <th>0</th>\n",
       "      <td>one review ha mention watch 1 oz episod ' hook...</td>\n",
       "      <td>positive</td>\n",
       "    </tr>\n",
       "    <tr>\n",
       "      <th>1</th>\n",
       "      <td>wonder littl production. film techniqu veri un...</td>\n",
       "      <td>positive</td>\n",
       "    </tr>\n",
       "    <tr>\n",
       "      <th>2</th>\n",
       "      <td>thought thi wa wonder way spend time hot summe...</td>\n",
       "      <td>positive</td>\n",
       "    </tr>\n",
       "    <tr>\n",
       "      <th>3</th>\n",
       "      <td>basic ' famili littl boy ( jake ) think ' zomb...</td>\n",
       "      <td>negative</td>\n",
       "    </tr>\n",
       "    <tr>\n",
       "      <th>4</th>\n",
       "      <td>petter mattei ' \" love time money \" visual stu...</td>\n",
       "      <td>positive</td>\n",
       "    </tr>\n",
       "  </tbody>\n",
       "</table>\n",
       "</div>"
      ],
      "text/plain": [
       "                                              review sentiment\n",
       "0  one review ha mention watch 1 oz episod ' hook...  positive\n",
       "1  wonder littl production. film techniqu veri un...  positive\n",
       "2  thought thi wa wonder way spend time hot summe...  positive\n",
       "3  basic ' famili littl boy ( jake ) think ' zomb...  negative\n",
       "4  petter mattei ' \" love time money \" visual stu...  positive"
      ]
     },
     "execution_count": 34,
     "metadata": {},
     "output_type": "execute_result"
    }
   ],
   "source": [
    "data.head()"
   ]
  },
  {
   "cell_type": "markdown",
   "metadata": {
    "id": "qP5EuJo3Ab9q"
   },
   "source": [
    "## Train test split"
   ]
  },
  {
   "cell_type": "code",
   "execution_count": 35,
   "metadata": {
    "id": "ou7X5y-bz4Zl"
   },
   "outputs": [],
   "source": [
    "#split the dataset  \n",
    "#train dataset\n",
    "train_reviews_data=data.review[:30000]\n"
   ]
  },
  {
   "cell_type": "code",
   "execution_count": 36,
   "metadata": {
    "id": "08kljHSc0aX_"
   },
   "outputs": [],
   "source": [
    "#test dataset\n",
    "\n",
    "test_reviews_data=data.review[30000:]\n"
   ]
  },
  {
   "cell_type": "markdown",
   "metadata": {
    "id": "2sAh7UTOt_3K"
   },
   "source": [
    "## Bag of words"
   ]
  },
  {
   "cell_type": "code",
   "execution_count": 37,
   "metadata": {
    "colab": {
     "base_uri": "https://localhost:8080/"
    },
    "id": "OFj-Ncl99udA",
    "outputId": "74a47554-0f70-41ba-e160-7204d5fbba17"
   },
   "outputs": [
    {
     "name": "stdout",
     "output_type": "stream",
     "text": [
      "BOW_cv_train: (30000, 4948415)\n",
      "BOW_cv_test: (20000, 4948415)\n"
     ]
    }
   ],
   "source": [
    "#Count vectorizer for bag of words\n",
    "cv=CountVectorizer(min_df=0,max_df=1,binary=False,ngram_range=(1,3))\n",
    "#transformed train reviews\n",
    "cv_train=cv.fit_transform(train_reviews_data)\n",
    "#transformed test reviews\n",
    "cv_test=cv.transform(test_reviews_data)\n",
    "\n",
    "print('BOW_cv_train:',cv_train.shape)\n",
    "print('BOW_cv_test:',cv_test.shape)\n",
    "#vocab=cv.get_feature_names()-toget feature names"
   ]
  },
  {
   "cell_type": "markdown",
   "metadata": {
    "id": "JBdt4-46uHEY"
   },
   "source": [
    "## TF_IDF"
   ]
  },
  {
   "cell_type": "code",
   "execution_count": 38,
   "metadata": {
    "colab": {
     "base_uri": "https://localhost:8080/"
    },
    "id": "BT-4lfBaAw9J",
    "outputId": "fec3737c-ff6c-4e9b-d4c4-5bdb0a968e26"
   },
   "outputs": [
    {
     "name": "stdout",
     "output_type": "stream",
     "text": [
      "Tfidf_train: (30000, 4948415)\n",
      "Tfidf_test: (20000, 4948415)\n"
     ]
    }
   ],
   "source": [
    "#Tfidf vectorizer\n",
    "tf=TfidfVectorizer(min_df=0,max_df=1,use_idf=True,ngram_range=(1,3))\n",
    "#transformed train reviews\n",
    "tf_train=tf.fit_transform(train_reviews_data)\n",
    "#transformed test reviews\n",
    "tf_test=tf.transform(test_reviews_data)\n",
    "print('Tfidf_train:',tf_train.shape)\n",
    "print('Tfidf_test:',tf_test.shape)"
   ]
  },
  {
   "cell_type": "markdown",
   "metadata": {
    "id": "VsoL02wKuVNQ"
   },
   "source": [
    "## Lable encoding"
   ]
  },
  {
   "cell_type": "code",
   "execution_count": 39,
   "metadata": {
    "colab": {
     "base_uri": "https://localhost:8080/"
    },
    "id": "MxhIF1q7Cla8",
    "outputId": "207ec18a-9493-4de3-8b1d-64e7cdb36141"
   },
   "outputs": [
    {
     "name": "stdout",
     "output_type": "stream",
     "text": [
      "(50000, 1)\n"
     ]
    }
   ],
   "source": [
    "#labeling the sentient data\n",
    "label=LabelBinarizer()\n",
    "#transformed sentiment data\n",
    "sentiment_data=label.fit_transform(data['sentiment'])\n",
    "print(sentiment_data.shape)"
   ]
  },
  {
   "cell_type": "code",
   "execution_count": 40,
   "metadata": {
    "id": "DC2p5nDTEB99"
   },
   "outputs": [],
   "source": [
    "train_data=data.sentiment[:30000]\n"
   ]
  },
  {
   "cell_type": "code",
   "execution_count": 41,
   "metadata": {
    "id": "Tj1gRrJ5EI_u"
   },
   "outputs": [],
   "source": [
    "test_data=data.sentiment[30000:]\n"
   ]
  },
  {
   "cell_type": "code",
   "execution_count": 42,
   "metadata": {
    "colab": {
     "base_uri": "https://localhost:8080/"
    },
    "id": "SbQWJwlfEJaZ",
    "outputId": "f3b8f971-5850-48cd-b33c-4671e65b533a"
   },
   "outputs": [
    {
     "name": "stdout",
     "output_type": "stream",
     "text": [
      "LogisticRegression(C=1, max_iter=500, random_state=42)\n",
      "LogisticRegression(C=1, max_iter=500, random_state=42)\n"
     ]
    }
   ],
   "source": [
    "#training the model\n",
    "logistic=LogisticRegression(penalty='l2',max_iter=500,C=1,random_state=42)\n",
    "#Fitting the model for Bag of words\n",
    "lr_bow=logistic.fit(cv_train,train_data)\n",
    "print(lr_bow)\n",
    "#Fitting the model for tfidf features\n",
    "lr_tfidf=logistic.fit(tf_train,train_data)\n",
    "print(lr_tfidf)"
   ]
  },
  {
   "cell_type": "code",
   "execution_count": 43,
   "metadata": {
    "colab": {
     "base_uri": "https://localhost:8080/"
    },
    "id": "5GEdjb3JE80n",
    "outputId": "d424d48a-1b44-4df9-dea3-3c46ec3f0b8c"
   },
   "outputs": [
    {
     "name": "stdout",
     "output_type": "stream",
     "text": [
      "['negative' 'negative' 'negative' ... 'negative' 'positive' 'positive']\n"
     ]
    }
   ],
   "source": [
    "#Predicting the model for bag of words\n",
    "lr_bow_predict=logistic.predict(cv_test)\n",
    "print(lr_bow_predict)\n"
   ]
  },
  {
   "cell_type": "code",
   "execution_count": 44,
   "metadata": {
    "colab": {
     "base_uri": "https://localhost:8080/"
    },
    "id": "KVcuLLBdwuM_",
    "outputId": "c8a3af8b-e620-4096-b7b0-51267b57c463"
   },
   "outputs": [
    {
     "name": "stdout",
     "output_type": "stream",
     "text": [
      "['negative' 'negative' 'negative' ... 'negative' 'positive' 'positive']\n"
     ]
    }
   ],
   "source": [
    "##Predicting the model for tfidf features\n",
    "lr_tfidf_predict=logistic.predict(tf_test)\n",
    "print(lr_tfidf_predict)"
   ]
  },
  {
   "cell_type": "code",
   "execution_count": 45,
   "metadata": {
    "colab": {
     "base_uri": "https://localhost:8080/"
    },
    "id": "e5dQjjRMEYwm",
    "outputId": "3b39124b-0114-4f8e-e7f1-0d7b7ae83b31"
   },
   "outputs": [
    {
     "name": "stdout",
     "output_type": "stream",
     "text": [
      "lr_bow_score : 0.74415\n"
     ]
    }
   ],
   "source": [
    "#Accuracy score for bag of words\n",
    "lr_bow_score=accuracy_score(test_data,lr_bow_predict)\n",
    "print(\"lr_bow_score :\",lr_bow_score)\n"
   ]
  },
  {
   "cell_type": "code",
   "execution_count": 46,
   "metadata": {
    "colab": {
     "base_uri": "https://localhost:8080/"
    },
    "id": "6IfQGarBwwku",
    "outputId": "9509b32f-19c2-4206-ce1c-903d4bd8c583"
   },
   "outputs": [
    {
     "name": "stdout",
     "output_type": "stream",
     "text": [
      "lr_tfidf_score : 0.7442\n"
     ]
    }
   ],
   "source": [
    "#Accuracy score for tfidf features\n",
    "lr_tfidf_score=accuracy_score(test_data,lr_tfidf_predict)\n",
    "print(\"lr_tfidf_score :\",lr_tfidf_score)"
   ]
  },
  {
   "cell_type": "code",
   "execution_count": 40,
   "metadata": {
    "id": "CX_6s4W7ErCG"
   },
   "outputs": [],
   "source": []
  }
 ],
 "metadata": {
  "accelerator": "GPU",
  "colab": {
   "collapsed_sections": [],
   "name": "movie_data_sentiment_analysis.ipynb",
   "provenance": []
  },
  "kernelspec": {
   "display_name": "Python 3 (ipykernel)",
   "language": "python",
   "name": "python3"
  },
  "language_info": {
   "codemirror_mode": {
    "name": "ipython",
    "version": 3
   },
   "file_extension": ".py",
   "mimetype": "text/x-python",
   "name": "python",
   "nbconvert_exporter": "python",
   "pygments_lexer": "ipython3",
   "version": "3.11.3"
  }
 },
 "nbformat": 4,
 "nbformat_minor": 1
}
